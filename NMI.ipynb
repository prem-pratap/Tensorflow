{
 "cells": [
  {
   "cell_type": "code",
   "execution_count": 1,
   "metadata": {},
   "outputs": [],
   "source": [
    "#TENSORFLOW NMI NAVAL MINE IDTIFIER"
   ]
  },
  {
   "cell_type": "code",
   "execution_count": 20,
   "metadata": {},
   "outputs": [],
   "source": [
    "import matplotlib as plt\n",
    "import numpy as np\n",
    "from sklearn.model_selection import train_test_split\n",
    "import pandas as pd\n",
    "import tensorflow as tf\n",
    "from sklearn.utils import shuffle\n",
    "from sklearn.preprocessing import LabelEncoder"
   ]
  },
  {
   "cell_type": "code",
   "execution_count": 5,
   "metadata": {},
   "outputs": [],
   "source": [
    "df=pd.read_csv(\"sonar.csv\")"
   ]
  },
  {
   "cell_type": "code",
   "execution_count": 18,
   "metadata": {},
   "outputs": [
    {
     "name": "stdout",
     "output_type": "stream",
     "text": [
      "0      R\n",
      "1      R\n",
      "2      R\n",
      "3      R\n",
      "4      R\n",
      "5      R\n",
      "6      R\n",
      "7      R\n",
      "8      R\n",
      "9      R\n",
      "10     R\n",
      "11     R\n",
      "12     R\n",
      "13     R\n",
      "14     R\n",
      "15     R\n",
      "16     R\n",
      "17     R\n",
      "18     R\n",
      "19     R\n",
      "20     R\n",
      "21     R\n",
      "22     R\n",
      "23     R\n",
      "24     R\n",
      "25     R\n",
      "26     R\n",
      "27     R\n",
      "28     R\n",
      "29     R\n",
      "      ..\n",
      "177    M\n",
      "178    M\n",
      "179    M\n",
      "180    M\n",
      "181    M\n",
      "182    M\n",
      "183    M\n",
      "184    M\n",
      "185    M\n",
      "186    M\n",
      "187    M\n",
      "188    M\n",
      "189    M\n",
      "190    M\n",
      "191    M\n",
      "192    M\n",
      "193    M\n",
      "194    M\n",
      "195    M\n",
      "196    M\n",
      "197    M\n",
      "198    M\n",
      "199    M\n",
      "200    M\n",
      "201    M\n",
      "202    M\n",
      "203    M\n",
      "204    M\n",
      "205    M\n",
      "206    M\n",
      "Name: R, Length: 207, dtype: object\n"
     ]
    }
   ],
   "source": [
    "features=df[df.columns[0:60]].values\n",
    "label=df[df.columns[60]]\n",
    "#encode the dependent variable\n",
    "encoder=LabelEncoder()\n",
    "encoder.fit(labels)\n",
    "labels=encoder.transform(labels)\n",
    "LABEL=one_hot_encode(lables)#only one variable is active at a time\n",
    "print(features.shape)\n",
    "return(features,LABEL)\n"
   ]
  },
  {
   "cell_type": "code",
   "execution_count": null,
   "metadata": {},
   "outputs": [],
   "source": []
  }
 ],
 "metadata": {
  "kernelspec": {
   "display_name": "Python 3",
   "language": "python",
   "name": "python3"
  },
  "language_info": {
   "codemirror_mode": {
    "name": "ipython",
    "version": 3
   },
   "file_extension": ".py",
   "mimetype": "text/x-python",
   "name": "python",
   "nbconvert_exporter": "python",
   "pygments_lexer": "ipython3",
   "version": "3.6.7"
  }
 },
 "nbformat": 4,
 "nbformat_minor": 2
}
