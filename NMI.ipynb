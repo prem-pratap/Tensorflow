{
 "cells": [
  {
   "cell_type": "code",
   "execution_count": 1,
   "metadata": {},
   "outputs": [],
   "source": [
    "#TENSORFLOW NMI NAVAL MINE IDTIFIER"
   ]
  },
  {
   "cell_type": "code",
   "execution_count": 2,
   "metadata": {},
   "outputs": [],
   "source": [
    "import matplotlib as plt\n",
    "import numpy as np\n",
    "from sklearn.model_selection import train_test_split\n",
    "import pandas as pd\n",
    "import tensorflow as tf\n",
    "from sklearn.utils import shuffle\n",
    "from sklearn.preprocessing import LabelEncoder"
   ]
  },
  {
   "cell_type": "code",
   "execution_count": 3,
   "metadata": {},
   "outputs": [],
   "source": [
    "df=pd.read_csv(\"sonar.csv\")"
   ]
  },
  {
   "cell_type": "code",
   "execution_count": 6,
   "metadata": {},
   "outputs": [],
   "source": [
    "def read_dataset():\n",
    "    features=df[df.columns[0:60]].values\n",
    "    labels=df[df.columns[60]]\n",
    "    #encode the dependent variable & encoding is done if we have labels not in 0 or 1\n",
    "    encoder=LabelEncoder()#assign 0 to R and 1 to M\n",
    "    encoder.fit(labels)#fit encoding list \n",
    "    labels=encoder.transform(labels)\n",
    "    LABEL=one_hot_encode(labels)#only one variable is active at a time\n",
    "    '''\n",
    "    in one hot encoding\n",
    "             0   1\n",
    "    R   0    1   0\n",
    "    \n",
    "    M   1    0   1\n",
    "    it will make two new columns and assign 1 to the respective 0 or 1\n",
    "    '''\n",
    "    print(features.shape)\n",
    "    return(features,LABEL,labels)\n",
    "#function to do one hot encoding\n",
    "def one_hot_encode(labels):\n",
    "    n_labels=len(labels)\n",
    "    n_unique_labels=len(np.unique(labels))\n",
    "    one_hot_encode=np.zeros((n_labels,n_unique_labels))\n",
    "    one_hot_encode[np.arange(n_labels)]=1\n",
    "    return(one_hot_encode)"
   ]
  },
  {
   "cell_type": "code",
   "execution_count": 9,
   "metadata": {},
   "outputs": [
    {
     "name": "stdout",
     "output_type": "stream",
     "text": [
      "(207, 60)\n"
     ]
    }
   ],
   "source": [
    "features,LABEL,labels=read_dataset()\n",
    "features,LABEL=shuffle(features,labels,random_state=1)\n",
    "train_fea,test_fea,train_lab,test_lab=train_test_split(features,LABEL,test_size=0.20)\n",
    "'''\n",
    "print(train_x.shape)\n",
    "print(train_y.shape)\n",
    "print(test_x.shape)\n",
    "''' \n",
    "#important parameters to work with tensors \n",
    "learning_rate=0.3\n",
    "training_iterations=3000#steps to reduce loss\n",
    "loss=np.empty(shape=[1],dtype=float)\n",
    "n_dim=features.shape[1]\n",
    "#print(n_dim)"
   ]
  },
  {
   "cell_type": "code",
   "execution_count": null,
   "metadata": {},
   "outputs": [],
   "source": []
  },
  {
   "cell_type": "code",
   "execution_count": null,
   "metadata": {},
   "outputs": [],
   "source": []
  }
 ],
 "metadata": {
  "kernelspec": {
   "display_name": "Python 3",
   "language": "python",
   "name": "python3"
  },
  "language_info": {
   "codemirror_mode": {
    "name": "ipython",
    "version": 3
   },
   "file_extension": ".py",
   "mimetype": "text/x-python",
   "name": "python",
   "nbconvert_exporter": "python",
   "pygments_lexer": "ipython3",
   "version": "3.6.7"
  }
 },
 "nbformat": 4,
 "nbformat_minor": 2
}
